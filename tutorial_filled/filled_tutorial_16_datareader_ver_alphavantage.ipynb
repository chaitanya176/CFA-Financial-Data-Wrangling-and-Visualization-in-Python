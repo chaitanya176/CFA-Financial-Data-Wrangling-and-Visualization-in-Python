{
 "cells": [
  {
   "cell_type": "markdown",
   "metadata": {},
   "source": [
    "# Tutorial 16 - `pandas_datareader`"
   ]
  },
  {
   "cell_type": "markdown",
   "metadata": {},
   "source": [
    "The purpose of this short tutorial is to introduce the `pandas_datareader` package. It is a convenient way to download a variety of online data sources such as Yahoo Finance, Quandl, and the Federal Reserve (FRED).\n",
    "\n",
    "This functionality used to be part of `pandas.io` submodule of `pandas` but now lives inside a separate package."
   ]
  },
  {
   "cell_type": "markdown",
   "metadata": {},
   "source": [
    "### Loading Packages"
   ]
  },
  {
   "cell_type": "markdown",
   "metadata": {},
   "source": [
    "Let's begin by loading the packages that we will need."
   ]
  },
  {
   "cell_type": "code",
   "execution_count": 1,
   "metadata": {},
   "outputs": [],
   "source": [
    "import pandas as pd\n",
    "import pandas_datareader as pdr"
   ]
  },
  {
   "cell_type": "markdown",
   "metadata": {},
   "source": [
    "### Yahoo Finance"
   ]
  },
  {
   "cell_type": "markdown",
   "metadata": {},
   "source": [
    "The function for retrieving data from Yahoo is `pdr.get_data_yahoo()`.\n",
    "\n",
    "The following code retrieves `SPY` data from 2014-2018."
   ]
  },
  {
   "cell_type": "code",
   "execution_count": 5,
   "metadata": {},
   "outputs": [
    {
     "data": {
      "text/html": [
       "<div>\n",
       "<style scoped>\n",
       "    .dataframe tbody tr th:only-of-type {\n",
       "        vertical-align: middle;\n",
       "    }\n",
       "\n",
       "    .dataframe tbody tr th {\n",
       "        vertical-align: top;\n",
       "    }\n",
       "\n",
       "    .dataframe thead th {\n",
       "        text-align: right;\n",
       "    }\n",
       "</style>\n",
       "<table border=\"1\" class=\"dataframe\">\n",
       "  <thead>\n",
       "    <tr style=\"text-align: right;\">\n",
       "      <th></th>\n",
       "      <th>High</th>\n",
       "      <th>Low</th>\n",
       "      <th>Open</th>\n",
       "      <th>Close</th>\n",
       "      <th>Volume</th>\n",
       "      <th>Adj Close</th>\n",
       "    </tr>\n",
       "    <tr>\n",
       "      <th>Date</th>\n",
       "      <th></th>\n",
       "      <th></th>\n",
       "      <th></th>\n",
       "      <th></th>\n",
       "      <th></th>\n",
       "      <th></th>\n",
       "    </tr>\n",
       "  </thead>\n",
       "  <tbody>\n",
       "    <tr>\n",
       "      <th>2019-01-02</th>\n",
       "      <td>158.850006</td>\n",
       "      <td>154.229996</td>\n",
       "      <td>154.889999</td>\n",
       "      <td>157.919998</td>\n",
       "      <td>37039700.0</td>\n",
       "      <td>155.582367</td>\n",
       "    </tr>\n",
       "    <tr>\n",
       "      <th>2019-01-03</th>\n",
       "      <td>145.720001</td>\n",
       "      <td>142.000000</td>\n",
       "      <td>143.979996</td>\n",
       "      <td>142.190002</td>\n",
       "      <td>91312200.0</td>\n",
       "      <td>140.085220</td>\n",
       "    </tr>\n",
       "    <tr>\n",
       "      <th>2019-01-04</th>\n",
       "      <td>148.550003</td>\n",
       "      <td>143.800003</td>\n",
       "      <td>144.529999</td>\n",
       "      <td>148.259995</td>\n",
       "      <td>58607100.0</td>\n",
       "      <td>146.065353</td>\n",
       "    </tr>\n",
       "    <tr>\n",
       "      <th>2019-01-07</th>\n",
       "      <td>148.830002</td>\n",
       "      <td>145.899994</td>\n",
       "      <td>148.699997</td>\n",
       "      <td>147.929993</td>\n",
       "      <td>54777800.0</td>\n",
       "      <td>145.740265</td>\n",
       "    </tr>\n",
       "    <tr>\n",
       "      <th>2019-01-08</th>\n",
       "      <td>151.820007</td>\n",
       "      <td>148.520004</td>\n",
       "      <td>149.559998</td>\n",
       "      <td>150.750000</td>\n",
       "      <td>41025300.0</td>\n",
       "      <td>148.518509</td>\n",
       "    </tr>\n",
       "  </tbody>\n",
       "</table>\n",
       "</div>"
      ],
      "text/plain": [
       "                  High         Low        Open       Close      Volume  \\\n",
       "Date                                                                     \n",
       "2019-01-02  158.850006  154.229996  154.889999  157.919998  37039700.0   \n",
       "2019-01-03  145.720001  142.000000  143.979996  142.190002  91312200.0   \n",
       "2019-01-04  148.550003  143.800003  144.529999  148.259995  58607100.0   \n",
       "2019-01-07  148.830002  145.899994  148.699997  147.929993  54777800.0   \n",
       "2019-01-08  151.820007  148.520004  149.559998  150.750000  41025300.0   \n",
       "\n",
       "             Adj Close  \n",
       "Date                    \n",
       "2019-01-02  155.582367  \n",
       "2019-01-03  140.085220  \n",
       "2019-01-04  146.065353  \n",
       "2019-01-07  145.740265  \n",
       "2019-01-08  148.518509  "
      ]
     },
     "execution_count": 5,
     "metadata": {},
     "output_type": "execute_result"
    }
   ],
   "source": [
    "df_spy = pdr.get_data_yahoo('AAPL', start='2019-01-01', end='2019-12-01')\n",
    "df_spy.head()"
   ]
  },
  {
   "cell_type": "markdown",
   "metadata": {},
   "source": [
    " "
   ]
  },
  {
   "cell_type": "markdown",
   "metadata": {},
   "source": [
    "The following code retrieves VIX data from 2014-2018."
   ]
  },
  {
   "cell_type": "code",
   "execution_count": 57,
   "metadata": {},
   "outputs": [
    {
     "data": {
      "text/html": [
       "<div>\n",
       "<style scoped>\n",
       "    .dataframe tbody tr th:only-of-type {\n",
       "        vertical-align: middle;\n",
       "    }\n",
       "\n",
       "    .dataframe tbody tr th {\n",
       "        vertical-align: top;\n",
       "    }\n",
       "\n",
       "    .dataframe thead th {\n",
       "        text-align: right;\n",
       "    }\n",
       "</style>\n",
       "<table border=\"1\" class=\"dataframe\">\n",
       "  <thead>\n",
       "    <tr style=\"text-align: right;\">\n",
       "      <th></th>\n",
       "      <th>High</th>\n",
       "      <th>Low</th>\n",
       "      <th>Open</th>\n",
       "      <th>Close</th>\n",
       "      <th>Volume</th>\n",
       "      <th>Adj Close</th>\n",
       "    </tr>\n",
       "    <tr>\n",
       "      <th>Date</th>\n",
       "      <th></th>\n",
       "      <th></th>\n",
       "      <th></th>\n",
       "      <th></th>\n",
       "      <th></th>\n",
       "      <th></th>\n",
       "    </tr>\n",
       "  </thead>\n",
       "  <tbody>\n",
       "    <tr>\n",
       "      <th>2014-01-02</th>\n",
       "      <td>14.59</td>\n",
       "      <td>14.00</td>\n",
       "      <td>14.32</td>\n",
       "      <td>14.23</td>\n",
       "      <td>0</td>\n",
       "      <td>14.23</td>\n",
       "    </tr>\n",
       "    <tr>\n",
       "      <th>2014-01-03</th>\n",
       "      <td>14.22</td>\n",
       "      <td>13.57</td>\n",
       "      <td>14.06</td>\n",
       "      <td>13.76</td>\n",
       "      <td>0</td>\n",
       "      <td>13.76</td>\n",
       "    </tr>\n",
       "    <tr>\n",
       "      <th>2014-01-06</th>\n",
       "      <td>14.00</td>\n",
       "      <td>13.22</td>\n",
       "      <td>13.41</td>\n",
       "      <td>13.55</td>\n",
       "      <td>0</td>\n",
       "      <td>13.55</td>\n",
       "    </tr>\n",
       "    <tr>\n",
       "      <th>2014-01-07</th>\n",
       "      <td>13.28</td>\n",
       "      <td>12.16</td>\n",
       "      <td>12.38</td>\n",
       "      <td>12.92</td>\n",
       "      <td>0</td>\n",
       "      <td>12.92</td>\n",
       "    </tr>\n",
       "    <tr>\n",
       "      <th>2014-01-08</th>\n",
       "      <td>13.24</td>\n",
       "      <td>12.86</td>\n",
       "      <td>13.04</td>\n",
       "      <td>12.87</td>\n",
       "      <td>0</td>\n",
       "      <td>12.87</td>\n",
       "    </tr>\n",
       "  </tbody>\n",
       "</table>\n",
       "</div>"
      ],
      "text/plain": [
       "             High    Low   Open  Close  Volume  Adj Close\n",
       "Date                                                     \n",
       "2014-01-02  14.59  14.00  14.32  14.23       0      14.23\n",
       "2014-01-03  14.22  13.57  14.06  13.76       0      13.76\n",
       "2014-01-06  14.00  13.22  13.41  13.55       0      13.55\n",
       "2014-01-07  13.28  12.16  12.38  12.92       0      12.92\n",
       "2014-01-08  13.24  12.86  13.04  12.87       0      12.87"
      ]
     },
     "execution_count": 57,
     "metadata": {},
     "output_type": "execute_result"
    }
   ],
   "source": [
    "df_vix = pdr.get_data_yahoo('^VIX', start='2014-01-01', end='2019-01-01')\n",
    "df_vix.head()"
   ]
  },
  {
   "cell_type": "markdown",
   "metadata": {},
   "source": [
    "**Code Challenge:** Grab the 2018 prices for `XLF`."
   ]
  },
  {
   "cell_type": "code",
   "execution_count": null,
   "metadata": {},
   "outputs": [],
   "source": [
    "\n",
    "\n"
   ]
  },
  {
   "cell_type": "markdown",
   "metadata": {},
   "source": [
    "### Federal Reserve (FRED)"
   ]
  },
  {
   "cell_type": "markdown",
   "metadata": {},
   "source": [
    "The function for retrieving data from FRED is `pdr.get_data_fred()`.\n",
    "\n",
    "This code grabs the VXN index (a VIX-like calculation for the Nasdaq 100) for 2014-2018."
   ]
  },
  {
   "cell_type": "code",
   "execution_count": 11,
   "metadata": {},
   "outputs": [
    {
     "data": {
      "text/html": [
       "<div>\n",
       "<style scoped>\n",
       "    .dataframe tbody tr th:only-of-type {\n",
       "        vertical-align: middle;\n",
       "    }\n",
       "\n",
       "    .dataframe tbody tr th {\n",
       "        vertical-align: top;\n",
       "    }\n",
       "\n",
       "    .dataframe thead th {\n",
       "        text-align: right;\n",
       "    }\n",
       "</style>\n",
       "<table border=\"1\" class=\"dataframe\">\n",
       "  <thead>\n",
       "    <tr style=\"text-align: right;\">\n",
       "      <th></th>\n",
       "      <th>VXNCLS</th>\n",
       "    </tr>\n",
       "    <tr>\n",
       "      <th>DATE</th>\n",
       "      <th></th>\n",
       "    </tr>\n",
       "  </thead>\n",
       "  <tbody>\n",
       "    <tr>\n",
       "      <th>2019-01-01</th>\n",
       "      <td>NaN</td>\n",
       "    </tr>\n",
       "    <tr>\n",
       "      <th>2019-01-02</th>\n",
       "      <td>30.09</td>\n",
       "    </tr>\n",
       "    <tr>\n",
       "      <th>2019-01-03</th>\n",
       "      <td>32.18</td>\n",
       "    </tr>\n",
       "    <tr>\n",
       "      <th>2019-01-04</th>\n",
       "      <td>28.57</td>\n",
       "    </tr>\n",
       "    <tr>\n",
       "      <th>2019-01-07</th>\n",
       "      <td>28.53</td>\n",
       "    </tr>\n",
       "    <tr>\n",
       "      <th>...</th>\n",
       "      <td>...</td>\n",
       "    </tr>\n",
       "    <tr>\n",
       "      <th>2019-12-06</th>\n",
       "      <td>16.44</td>\n",
       "    </tr>\n",
       "    <tr>\n",
       "      <th>2019-12-09</th>\n",
       "      <td>18.15</td>\n",
       "    </tr>\n",
       "    <tr>\n",
       "      <th>2019-12-10</th>\n",
       "      <td>18.02</td>\n",
       "    </tr>\n",
       "    <tr>\n",
       "      <th>2019-12-11</th>\n",
       "      <td>17.41</td>\n",
       "    </tr>\n",
       "    <tr>\n",
       "      <th>2019-12-12</th>\n",
       "      <td>16.55</td>\n",
       "    </tr>\n",
       "  </tbody>\n",
       "</table>\n",
       "<p>248 rows × 1 columns</p>\n",
       "</div>"
      ],
      "text/plain": [
       "            VXNCLS\n",
       "DATE              \n",
       "2019-01-01     NaN\n",
       "2019-01-02   30.09\n",
       "2019-01-03   32.18\n",
       "2019-01-04   28.57\n",
       "2019-01-07   28.53\n",
       "...            ...\n",
       "2019-12-06   16.44\n",
       "2019-12-09   18.15\n",
       "2019-12-10   18.02\n",
       "2019-12-11   17.41\n",
       "2019-12-12   16.55\n",
       "\n",
       "[248 rows x 1 columns]"
      ]
     },
     "execution_count": 11,
     "metadata": {},
     "output_type": "execute_result"
    }
   ],
   "source": [
    "df_vxn = pdr.get_data_fred('VXNCLS', start='2019-01-01', end='2019-12-12')\n",
    "df_vxn"
   ]
  },
  {
   "cell_type": "markdown",
   "metadata": {},
   "source": [
    "### Further Reading\n",
    "\n",
    "At the moment, there isn't a lot of great documentation about `pandas_datareader`.  \n",
    "\n",
    "Here is a link to the [offical docs](https://pydata.github.io/pandas-datareader/stable/), which aren't the best."
   ]
  },
  {
   "cell_type": "code",
   "execution_count": 52,
   "metadata": {},
   "outputs": [],
   "source": [
    "import os\n",
    "from datetime import datetime\n",
    "import pandas_datareader.data as web\n"
   ]
  },
  {
   "cell_type": "code",
   "execution_count": 53,
   "metadata": {},
   "outputs": [],
   "source": [
    "os.environ['ALPHAVANTAGE_API_KEY'] = 'MUOT1BPLVAMSCTC9'\n"
   ]
  },
  {
   "cell_type": "code",
   "execution_count": 54,
   "metadata": {},
   "outputs": [],
   "source": [
    "from datetime import datetime"
   ]
  },
  {
   "cell_type": "code",
   "execution_count": 62,
   "metadata": {},
   "outputs": [],
   "source": [
    "f = web.DataReader(\"C\", \"av-intraday\", start=datetime(2019, 10, 1),\n",
    "                   end=datetime(2019, 12, 15))\n",
    "                   "
   ]
  },
  {
   "cell_type": "code",
   "execution_count": 63,
   "metadata": {},
   "outputs": [
    {
     "data": {
      "text/html": [
       "<div>\n",
       "<style scoped>\n",
       "    .dataframe tbody tr th:only-of-type {\n",
       "        vertical-align: middle;\n",
       "    }\n",
       "\n",
       "    .dataframe tbody tr th {\n",
       "        vertical-align: top;\n",
       "    }\n",
       "\n",
       "    .dataframe thead th {\n",
       "        text-align: right;\n",
       "    }\n",
       "</style>\n",
       "<table border=\"1\" class=\"dataframe\">\n",
       "  <thead>\n",
       "    <tr style=\"text-align: right;\">\n",
       "      <th></th>\n",
       "      <th>open</th>\n",
       "      <th>high</th>\n",
       "      <th>low</th>\n",
       "      <th>close</th>\n",
       "      <th>volume</th>\n",
       "    </tr>\n",
       "  </thead>\n",
       "  <tbody>\n",
       "    <tr>\n",
       "      <th>2019-12-09 09:31:00</th>\n",
       "      <td>75.240</td>\n",
       "      <td>75.2400</td>\n",
       "      <td>75.2400</td>\n",
       "      <td>75.2400</td>\n",
       "      <td>28426</td>\n",
       "    </tr>\n",
       "    <tr>\n",
       "      <th>2019-12-09 09:32:00</th>\n",
       "      <td>75.283</td>\n",
       "      <td>75.3521</td>\n",
       "      <td>75.1514</td>\n",
       "      <td>75.2330</td>\n",
       "      <td>243026</td>\n",
       "    </tr>\n",
       "    <tr>\n",
       "      <th>2019-12-09 09:33:00</th>\n",
       "      <td>75.240</td>\n",
       "      <td>75.2800</td>\n",
       "      <td>75.1700</td>\n",
       "      <td>75.2400</td>\n",
       "      <td>63740</td>\n",
       "    </tr>\n",
       "    <tr>\n",
       "      <th>2019-12-09 09:34:00</th>\n",
       "      <td>75.250</td>\n",
       "      <td>75.3700</td>\n",
       "      <td>75.2500</td>\n",
       "      <td>75.3326</td>\n",
       "      <td>46113</td>\n",
       "    </tr>\n",
       "    <tr>\n",
       "      <th>2019-12-09 09:35:00</th>\n",
       "      <td>75.350</td>\n",
       "      <td>75.4100</td>\n",
       "      <td>75.3000</td>\n",
       "      <td>75.3600</td>\n",
       "      <td>31751</td>\n",
       "    </tr>\n",
       "    <tr>\n",
       "      <th>...</th>\n",
       "      <td>...</td>\n",
       "      <td>...</td>\n",
       "      <td>...</td>\n",
       "      <td>...</td>\n",
       "      <td>...</td>\n",
       "    </tr>\n",
       "    <tr>\n",
       "      <th>2019-12-13 15:56:00</th>\n",
       "      <td>76.370</td>\n",
       "      <td>76.3750</td>\n",
       "      <td>76.3300</td>\n",
       "      <td>76.3300</td>\n",
       "      <td>100899</td>\n",
       "    </tr>\n",
       "    <tr>\n",
       "      <th>2019-12-13 15:57:00</th>\n",
       "      <td>76.330</td>\n",
       "      <td>76.3600</td>\n",
       "      <td>76.3150</td>\n",
       "      <td>76.3500</td>\n",
       "      <td>73932</td>\n",
       "    </tr>\n",
       "    <tr>\n",
       "      <th>2019-12-13 15:58:00</th>\n",
       "      <td>76.350</td>\n",
       "      <td>76.3900</td>\n",
       "      <td>76.3500</td>\n",
       "      <td>76.3600</td>\n",
       "      <td>76291</td>\n",
       "    </tr>\n",
       "    <tr>\n",
       "      <th>2019-12-13 15:59:00</th>\n",
       "      <td>76.370</td>\n",
       "      <td>76.4500</td>\n",
       "      <td>76.3650</td>\n",
       "      <td>76.4002</td>\n",
       "      <td>100983</td>\n",
       "    </tr>\n",
       "    <tr>\n",
       "      <th>2019-12-13 16:00:00</th>\n",
       "      <td>76.410</td>\n",
       "      <td>76.4200</td>\n",
       "      <td>76.3300</td>\n",
       "      <td>76.3700</td>\n",
       "      <td>236716</td>\n",
       "    </tr>\n",
       "  </tbody>\n",
       "</table>\n",
       "<p>1943 rows × 5 columns</p>\n",
       "</div>"
      ],
      "text/plain": [
       "                       open     high      low    close  volume\n",
       "2019-12-09 09:31:00  75.240  75.2400  75.2400  75.2400   28426\n",
       "2019-12-09 09:32:00  75.283  75.3521  75.1514  75.2330  243026\n",
       "2019-12-09 09:33:00  75.240  75.2800  75.1700  75.2400   63740\n",
       "2019-12-09 09:34:00  75.250  75.3700  75.2500  75.3326   46113\n",
       "2019-12-09 09:35:00  75.350  75.4100  75.3000  75.3600   31751\n",
       "...                     ...      ...      ...      ...     ...\n",
       "2019-12-13 15:56:00  76.370  76.3750  76.3300  76.3300  100899\n",
       "2019-12-13 15:57:00  76.330  76.3600  76.3150  76.3500   73932\n",
       "2019-12-13 15:58:00  76.350  76.3900  76.3500  76.3600   76291\n",
       "2019-12-13 15:59:00  76.370  76.4500  76.3650  76.4002  100983\n",
       "2019-12-13 16:00:00  76.410  76.4200  76.3300  76.3700  236716\n",
       "\n",
       "[1943 rows x 5 columns]"
      ]
     },
     "execution_count": 63,
     "metadata": {},
     "output_type": "execute_result"
    }
   ],
   "source": [
    "f"
   ]
  },
  {
   "cell_type": "code",
   "execution_count": null,
   "metadata": {},
   "outputs": [],
   "source": []
  }
 ],
 "metadata": {
  "kernelspec": {
   "display_name": "Python 3",
   "language": "python",
   "name": "python3"
  },
  "language_info": {
   "codemirror_mode": {
    "name": "ipython",
    "version": 3
   },
   "file_extension": ".py",
   "mimetype": "text/x-python",
   "name": "python",
   "nbconvert_exporter": "python",
   "pygments_lexer": "ipython3",
   "version": "3.7.3"
  }
 },
 "nbformat": 4,
 "nbformat_minor": 2
}

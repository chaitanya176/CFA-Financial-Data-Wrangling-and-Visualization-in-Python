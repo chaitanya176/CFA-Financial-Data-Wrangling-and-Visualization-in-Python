{
 "cells": [
  {
   "cell_type": "markdown",
   "metadata": {},
   "source": [
    "# Tutorial 16 - `pandas_datareader`"
   ]
  },
  {
   "cell_type": "markdown",
   "metadata": {},
   "source": [
    "The purpose of this short tutorial is to introduce the `pandas_datareader` package. It is a convenient way to download a variety of online data sources such as Yahoo Finance, Quandl, and the Federal Reserve (FRED).\n",
    "\n",
    "This functionality used to be part of `pandas.io` submodule of `pandas` but now lives inside a separate package."
   ]
  },
  {
   "cell_type": "markdown",
   "metadata": {},
   "source": [
    "### Loading Packages"
   ]
  },
  {
   "cell_type": "markdown",
   "metadata": {},
   "source": [
    "Let's begin by loading the packages that we will need."
   ]
  },
  {
   "cell_type": "code",
   "execution_count": 1,
   "metadata": {},
   "outputs": [],
   "source": [
    "import pandas as pd\n",
    "import pandas_datareader as pdr"
   ]
  },
  {
   "cell_type": "markdown",
   "metadata": {},
   "source": [
    "### Yahoo Finance"
   ]
  },
  {
   "cell_type": "markdown",
   "metadata": {},
   "source": [
    "The function for retrieving data from Yahoo is `pdr.get_data_yahoo()`.\n",
    "\n",
    "The following code retrieves `SPY` data from 2014-2018."
   ]
  },
  {
   "cell_type": "code",
   "execution_count": 5,
   "metadata": {},
   "outputs": [
    {
     "data": {
      "text/html": [
       "<div>\n",
       "<style scoped>\n",
       "    .dataframe tbody tr th:only-of-type {\n",
       "        vertical-align: middle;\n",
       "    }\n",
       "\n",
       "    .dataframe tbody tr th {\n",
       "        vertical-align: top;\n",
       "    }\n",
       "\n",
       "    .dataframe thead th {\n",
       "        text-align: right;\n",
       "    }\n",
       "</style>\n",
       "<table border=\"1\" class=\"dataframe\">\n",
       "  <thead>\n",
       "    <tr style=\"text-align: right;\">\n",
       "      <th></th>\n",
       "      <th>High</th>\n",
       "      <th>Low</th>\n",
       "      <th>Open</th>\n",
       "      <th>Close</th>\n",
       "      <th>Volume</th>\n",
       "      <th>Adj Close</th>\n",
       "    </tr>\n",
       "    <tr>\n",
       "      <th>Date</th>\n",
       "      <th></th>\n",
       "      <th></th>\n",
       "      <th></th>\n",
       "      <th></th>\n",
       "      <th></th>\n",
       "      <th></th>\n",
       "    </tr>\n",
       "  </thead>\n",
       "  <tbody>\n",
       "    <tr>\n",
       "      <th>2019-01-02</th>\n",
       "      <td>158.850006</td>\n",
       "      <td>154.229996</td>\n",
       "      <td>154.889999</td>\n",
       "      <td>157.919998</td>\n",
       "      <td>37039700.0</td>\n",
       "      <td>155.582367</td>\n",
       "    </tr>\n",
       "    <tr>\n",
       "      <th>2019-01-03</th>\n",
       "      <td>145.720001</td>\n",
       "      <td>142.000000</td>\n",
       "      <td>143.979996</td>\n",
       "      <td>142.190002</td>\n",
       "      <td>91312200.0</td>\n",
       "      <td>140.085220</td>\n",
       "    </tr>\n",
       "    <tr>\n",
       "      <th>2019-01-04</th>\n",
       "      <td>148.550003</td>\n",
       "      <td>143.800003</td>\n",
       "      <td>144.529999</td>\n",
       "      <td>148.259995</td>\n",
       "      <td>58607100.0</td>\n",
       "      <td>146.065353</td>\n",
       "    </tr>\n",
       "    <tr>\n",
       "      <th>2019-01-07</th>\n",
       "      <td>148.830002</td>\n",
       "      <td>145.899994</td>\n",
       "      <td>148.699997</td>\n",
       "      <td>147.929993</td>\n",
       "      <td>54777800.0</td>\n",
       "      <td>145.740265</td>\n",
       "    </tr>\n",
       "    <tr>\n",
       "      <th>2019-01-08</th>\n",
       "      <td>151.820007</td>\n",
       "      <td>148.520004</td>\n",
       "      <td>149.559998</td>\n",
       "      <td>150.750000</td>\n",
       "      <td>41025300.0</td>\n",
       "      <td>148.518509</td>\n",
       "    </tr>\n",
       "  </tbody>\n",
       "</table>\n",
       "</div>"
      ],
      "text/plain": [
       "                  High         Low        Open       Close      Volume  \\\n",
       "Date                                                                     \n",
       "2019-01-02  158.850006  154.229996  154.889999  157.919998  37039700.0   \n",
       "2019-01-03  145.720001  142.000000  143.979996  142.190002  91312200.0   \n",
       "2019-01-04  148.550003  143.800003  144.529999  148.259995  58607100.0   \n",
       "2019-01-07  148.830002  145.899994  148.699997  147.929993  54777800.0   \n",
       "2019-01-08  151.820007  148.520004  149.559998  150.750000  41025300.0   \n",
       "\n",
       "             Adj Close  \n",
       "Date                    \n",
       "2019-01-02  155.582367  \n",
       "2019-01-03  140.085220  \n",
       "2019-01-04  146.065353  \n",
       "2019-01-07  145.740265  \n",
       "2019-01-08  148.518509  "
      ]
     },
     "execution_count": 5,
     "metadata": {},
     "output_type": "execute_result"
    }
   ],
   "source": [
    "df_spy = pdr.get_data_yahoo('AAPL', start='2019-01-01', end='2019-12-01')\n",
    "df_spy.head()"
   ]
  },
  {
   "cell_type": "markdown",
   "metadata": {},
   "source": [
    " "
   ]
  },
  {
   "cell_type": "markdown",
   "metadata": {},
   "source": [
    "The following code retrieves VIX data from 2014-2018."
   ]
  },
  {
   "cell_type": "code",
   "execution_count": 3,
   "metadata": {},
   "outputs": [
    {
     "data": {
      "text/html": [
       "<div>\n",
       "<style scoped>\n",
       "    .dataframe tbody tr th:only-of-type {\n",
       "        vertical-align: middle;\n",
       "    }\n",
       "\n",
       "    .dataframe tbody tr th {\n",
       "        vertical-align: top;\n",
       "    }\n",
       "\n",
       "    .dataframe thead th {\n",
       "        text-align: right;\n",
       "    }\n",
       "</style>\n",
       "<table border=\"1\" class=\"dataframe\">\n",
       "  <thead>\n",
       "    <tr style=\"text-align: right;\">\n",
       "      <th></th>\n",
       "      <th>High</th>\n",
       "      <th>Low</th>\n",
       "      <th>Open</th>\n",
       "      <th>Close</th>\n",
       "      <th>Volume</th>\n",
       "      <th>Adj Close</th>\n",
       "    </tr>\n",
       "    <tr>\n",
       "      <th>Date</th>\n",
       "      <th></th>\n",
       "      <th></th>\n",
       "      <th></th>\n",
       "      <th></th>\n",
       "      <th></th>\n",
       "      <th></th>\n",
       "    </tr>\n",
       "  </thead>\n",
       "  <tbody>\n",
       "    <tr>\n",
       "      <th>2014-01-02</th>\n",
       "      <td>14.59</td>\n",
       "      <td>14.00</td>\n",
       "      <td>14.32</td>\n",
       "      <td>14.23</td>\n",
       "      <td>0</td>\n",
       "      <td>14.23</td>\n",
       "    </tr>\n",
       "    <tr>\n",
       "      <th>2014-01-03</th>\n",
       "      <td>14.22</td>\n",
       "      <td>13.57</td>\n",
       "      <td>14.06</td>\n",
       "      <td>13.76</td>\n",
       "      <td>0</td>\n",
       "      <td>13.76</td>\n",
       "    </tr>\n",
       "    <tr>\n",
       "      <th>2014-01-06</th>\n",
       "      <td>14.00</td>\n",
       "      <td>13.22</td>\n",
       "      <td>13.41</td>\n",
       "      <td>13.55</td>\n",
       "      <td>0</td>\n",
       "      <td>13.55</td>\n",
       "    </tr>\n",
       "    <tr>\n",
       "      <th>2014-01-07</th>\n",
       "      <td>13.28</td>\n",
       "      <td>12.16</td>\n",
       "      <td>12.38</td>\n",
       "      <td>12.92</td>\n",
       "      <td>0</td>\n",
       "      <td>12.92</td>\n",
       "    </tr>\n",
       "    <tr>\n",
       "      <th>2014-01-08</th>\n",
       "      <td>13.24</td>\n",
       "      <td>12.86</td>\n",
       "      <td>13.04</td>\n",
       "      <td>12.87</td>\n",
       "      <td>0</td>\n",
       "      <td>12.87</td>\n",
       "    </tr>\n",
       "  </tbody>\n",
       "</table>\n",
       "</div>"
      ],
      "text/plain": [
       "             High    Low   Open  Close  Volume  Adj Close\n",
       "Date                                                     \n",
       "2014-01-02  14.59  14.00  14.32  14.23       0      14.23\n",
       "2014-01-03  14.22  13.57  14.06  13.76       0      13.76\n",
       "2014-01-06  14.00  13.22  13.41  13.55       0      13.55\n",
       "2014-01-07  13.28  12.16  12.38  12.92       0      12.92\n",
       "2014-01-08  13.24  12.86  13.04  12.87       0      12.87"
      ]
     },
     "execution_count": 3,
     "metadata": {},
     "output_type": "execute_result"
    }
   ],
   "source": [
    "df_vix = pdr.get_data_yahoo('^VIX', start='2014-01-01', end='2019-01-01')\n",
    "df_vix.head()"
   ]
  },
  {
   "cell_type": "markdown",
   "metadata": {},
   "source": [
    "**Code Challenge:** Grab the 2018 prices for `XLF`."
   ]
  },
  {
   "cell_type": "code",
   "execution_count": null,
   "metadata": {},
   "outputs": [],
   "source": [
    "\n",
    "\n"
   ]
  },
  {
   "cell_type": "markdown",
   "metadata": {},
   "source": [
    "### Federal Reserve (FRED)"
   ]
  },
  {
   "cell_type": "markdown",
   "metadata": {},
   "source": [
    "The function for retrieving data from FRED is `pdr.get_data_fred()`.\n",
    "\n",
    "This code grabs the VXN index (a VIX-like calculation for the Nasdaq 100) for 2014-2018."
   ]
  },
  {
   "cell_type": "code",
   "execution_count": 11,
   "metadata": {},
   "outputs": [
    {
     "data": {
      "text/html": [
       "<div>\n",
       "<style scoped>\n",
       "    .dataframe tbody tr th:only-of-type {\n",
       "        vertical-align: middle;\n",
       "    }\n",
       "\n",
       "    .dataframe tbody tr th {\n",
       "        vertical-align: top;\n",
       "    }\n",
       "\n",
       "    .dataframe thead th {\n",
       "        text-align: right;\n",
       "    }\n",
       "</style>\n",
       "<table border=\"1\" class=\"dataframe\">\n",
       "  <thead>\n",
       "    <tr style=\"text-align: right;\">\n",
       "      <th></th>\n",
       "      <th>VXNCLS</th>\n",
       "    </tr>\n",
       "    <tr>\n",
       "      <th>DATE</th>\n",
       "      <th></th>\n",
       "    </tr>\n",
       "  </thead>\n",
       "  <tbody>\n",
       "    <tr>\n",
       "      <th>2019-01-01</th>\n",
       "      <td>NaN</td>\n",
       "    </tr>\n",
       "    <tr>\n",
       "      <th>2019-01-02</th>\n",
       "      <td>30.09</td>\n",
       "    </tr>\n",
       "    <tr>\n",
       "      <th>2019-01-03</th>\n",
       "      <td>32.18</td>\n",
       "    </tr>\n",
       "    <tr>\n",
       "      <th>2019-01-04</th>\n",
       "      <td>28.57</td>\n",
       "    </tr>\n",
       "    <tr>\n",
       "      <th>2019-01-07</th>\n",
       "      <td>28.53</td>\n",
       "    </tr>\n",
       "    <tr>\n",
       "      <th>...</th>\n",
       "      <td>...</td>\n",
       "    </tr>\n",
       "    <tr>\n",
       "      <th>2019-12-06</th>\n",
       "      <td>16.44</td>\n",
       "    </tr>\n",
       "    <tr>\n",
       "      <th>2019-12-09</th>\n",
       "      <td>18.15</td>\n",
       "    </tr>\n",
       "    <tr>\n",
       "      <th>2019-12-10</th>\n",
       "      <td>18.02</td>\n",
       "    </tr>\n",
       "    <tr>\n",
       "      <th>2019-12-11</th>\n",
       "      <td>17.41</td>\n",
       "    </tr>\n",
       "    <tr>\n",
       "      <th>2019-12-12</th>\n",
       "      <td>16.55</td>\n",
       "    </tr>\n",
       "  </tbody>\n",
       "</table>\n",
       "<p>248 rows × 1 columns</p>\n",
       "</div>"
      ],
      "text/plain": [
       "            VXNCLS\n",
       "DATE              \n",
       "2019-01-01     NaN\n",
       "2019-01-02   30.09\n",
       "2019-01-03   32.18\n",
       "2019-01-04   28.57\n",
       "2019-01-07   28.53\n",
       "...            ...\n",
       "2019-12-06   16.44\n",
       "2019-12-09   18.15\n",
       "2019-12-10   18.02\n",
       "2019-12-11   17.41\n",
       "2019-12-12   16.55\n",
       "\n",
       "[248 rows x 1 columns]"
      ]
     },
     "execution_count": 11,
     "metadata": {},
     "output_type": "execute_result"
    }
   ],
   "source": [
    "df_vxn = pdr.get_data_fred('VXNCLS', start='2019-01-01', end='2019-12-12')\n",
    "df_vxn"
   ]
  },
  {
   "cell_type": "markdown",
   "metadata": {},
   "source": [
    "### Further Reading\n",
    "\n",
    "At the moment, there isn't a lot of great documentation about `pandas_datareader`.  \n",
    "\n",
    "Here is a link to the [offical docs](https://pydata.github.io/pandas-datareader/stable/), which aren't the best."
   ]
  },
  {
   "cell_type": "code",
   "execution_count": 52,
   "metadata": {},
   "outputs": [],
   "source": [
    "import os\n",
    "from datetime import datetime\n",
    "import pandas_datareader.data as web\n"
   ]
  },
  {
   "cell_type": "code",
   "execution_count": 53,
   "metadata": {},
   "outputs": [],
   "source": [
    "os.environ['ALPHAVANTAGE_API_KEY'] = 'MUOT1BPLVAMSCTC9'\n"
   ]
  },
  {
   "cell_type": "code",
   "execution_count": 54,
   "metadata": {},
   "outputs": [],
   "source": [
    "from datetime import datetime"
   ]
  },
  {
   "cell_type": "code",
   "execution_count": 55,
   "metadata": {},
   "outputs": [],
   "source": [
    "f = web.DataReader(\"C\", \"av-daily\", start=datetime(2019, 10, 1),\n",
    "                   end=datetime(2019, 12, 15))\n",
    "                   "
   ]
  },
  {
   "cell_type": "code",
   "execution_count": 56,
   "metadata": {},
   "outputs": [
    {
     "name": "stdout",
     "output_type": "stream",
     "text": [
      "             open     high      low  close    volume\n",
      "2019-10-01  69.57  70.2700  68.0100  68.15  12470801\n",
      "2019-10-02  67.76  67.8000  66.1900  66.26  15108007\n",
      "2019-10-03  66.08  66.7300  64.7900  66.70  12652097\n",
      "2019-10-04  66.76  68.2400  66.6650  68.18  11022955\n",
      "2019-10-07  67.87  68.8400  67.8650  68.15   7840722\n",
      "2019-10-08  67.03  67.1800  66.0250  66.40  13511469\n",
      "2019-10-09  67.00  67.7700  66.7900  67.43   8376836\n",
      "2019-10-10  67.77  69.2900  67.5500  68.62   9917189\n",
      "2019-10-11  69.99  70.9300  69.9900  70.10  14925207\n",
      "2019-10-14  69.53  70.4950  69.4600  70.24  11482654\n",
      "2019-10-15  70.17  72.0800  68.7000  71.22  22038223\n",
      "2019-10-16  70.82  71.4600  69.4200  69.50  17355830\n",
      "2019-10-17  70.03  70.3400  69.1800  69.60  11385190\n",
      "2019-10-18  69.32  70.0900  69.1400  69.74  10413594\n",
      "2019-10-21  70.52  71.8900  70.5200  71.81  13105335\n",
      "2019-10-22  71.72  72.8700  71.4700  72.06  11059553\n",
      "2019-10-23  71.90  72.4700  71.7300  72.45  10327917\n",
      "2019-10-24  72.55  72.8600  71.8600  72.30   7465458\n",
      "2019-10-25  71.97  73.4200  71.8100  73.17  10496131\n",
      "2019-10-28  73.73  74.2800  73.4447  73.59  13086766\n",
      "2019-10-29  73.14  73.7900  72.7200  73.09   9590594\n",
      "2019-10-30  72.75  73.3530  72.1000  72.97  12430390\n",
      "2019-10-31  72.36  72.9700  71.3300  71.86  16862300\n",
      "2019-11-01  72.25  73.9900  72.1000  73.84  12934278\n",
      "2019-11-04  74.94  75.2700  74.1100  75.15  12582950\n",
      "2019-11-05  75.19  75.9700  74.6400  74.83  14399586\n",
      "2019-11-06  74.42  75.0500  73.9700  74.42  12628015\n",
      "2019-11-07  75.41  76.2800  75.4100  75.81  14332050\n",
      "2019-11-08  75.48  76.1200  75.0550  76.12   7927066\n",
      "2019-11-11  75.45  76.0800  75.2400  75.60   6019364\n",
      "2019-11-12  75.55  75.9600  75.0100  75.07  11066332\n",
      "2019-11-13  74.25  74.9100  73.7100  73.91  14055632\n",
      "2019-11-14  73.61  74.0100  73.3300  73.84   9446780\n",
      "2019-11-15  74.34  74.4600  73.6800  74.40  10293986\n",
      "2019-11-18  74.29  74.6400  73.5600  74.40   8525582\n",
      "2019-11-19  74.97  75.2400  74.4700  74.82   9094918\n",
      "2019-11-20  74.63  74.7200  73.2200  73.91  12799672\n",
      "2019-11-21  74.08  74.6300  73.5100  73.90   8584204\n",
      "2019-11-22  74.10  74.9200  73.9700  74.87   7900612\n",
      "2019-11-25  74.93  75.8500  74.8700  75.68  11497743\n",
      "2019-11-26  75.84  75.8400  74.8200  75.46  11310865\n",
      "2019-11-27  75.84  76.1300  75.5000  75.72   7591871\n",
      "2019-11-29  75.43  75.7972  74.9900  75.12   6246876\n",
      "2019-12-02  75.42  75.9300  74.4300  74.52  11083148\n",
      "2019-12-03  73.38  73.4700  72.5000  73.33  13787648\n",
      "2019-12-04  73.83  74.5900  73.4200  74.23   8266381\n",
      "2019-12-05  74.65  74.8450  74.3500  74.71   9581191\n",
      "2019-12-06  75.93  76.2200  75.6000  75.81   9877781\n",
      "2019-12-09  75.18  75.9200  75.0795  75.33   8816696\n",
      "2019-12-10  75.07  76.2700  74.8700  75.78  13019610\n",
      "2019-12-11  76.12  76.2100  75.5000  75.55  10340931\n",
      "2019-12-12  75.81  77.5200  75.6200  77.05  15828911\n",
      "2019-12-13  77.05  77.8300  76.0600  76.39  13446971\n"
     ]
    }
   ],
   "source": [
    "print(f)"
   ]
  },
  {
   "cell_type": "code",
   "execution_count": null,
   "metadata": {},
   "outputs": [],
   "source": []
  }
 ],
 "metadata": {
  "kernelspec": {
   "display_name": "Python 3",
   "language": "python",
   "name": "python3"
  },
  "language_info": {
   "codemirror_mode": {
    "name": "ipython",
    "version": 3
   },
   "file_extension": ".py",
   "mimetype": "text/x-python",
   "name": "python",
   "nbconvert_exporter": "python",
   "pygments_lexer": "ipython3",
   "version": "3.7.3"
  }
 },
 "nbformat": 4,
 "nbformat_minor": 2
}

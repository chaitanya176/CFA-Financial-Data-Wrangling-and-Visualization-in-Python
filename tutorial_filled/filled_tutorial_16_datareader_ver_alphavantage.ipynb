{
 "cells": [
  {
   "cell_type": "markdown",
   "metadata": {},
   "source": [
    "# Tutorial 16 - `pandas_datareader`"
   ]
  },
  {
   "cell_type": "markdown",
   "metadata": {},
   "source": [
    "The purpose of this short tutorial is to introduce the `pandas_datareader` package. It is a convenient way to download a variety of online data sources such as Yahoo Finance, Quandl, and the Federal Reserve (FRED).\n",
    "\n",
    "This functionality used to be part of `pandas.io` submodule of `pandas` but now lives inside a separate package."
   ]
  },
  {
   "cell_type": "markdown",
   "metadata": {},
   "source": [
    "### Loading Packages"
   ]
  },
  {
   "cell_type": "markdown",
   "metadata": {},
   "source": [
    "Let's begin by loading the packages that we will need."
   ]
  },
  {
   "cell_type": "code",
   "execution_count": 1,
   "metadata": {},
   "outputs": [],
   "source": [
    "import pandas as pd\n",
    "import pandas_datareader as pdr"
   ]
  },
  {
   "cell_type": "markdown",
   "metadata": {},
   "source": [
    "### Yahoo Finance"
   ]
  },
  {
   "cell_type": "markdown",
   "metadata": {},
   "source": [
    "The function for retrieving data from Yahoo is `pdr.get_data_yahoo()`.\n",
    "\n",
    "The following code retrieves `SPY` data from 2014-2018."
   ]
  },
  {
   "cell_type": "code",
   "execution_count": 2,
   "metadata": {},
   "outputs": [
    {
     "data": {
      "text/html": [
       "<div>\n",
       "<style scoped>\n",
       "    .dataframe tbody tr th:only-of-type {\n",
       "        vertical-align: middle;\n",
       "    }\n",
       "\n",
       "    .dataframe tbody tr th {\n",
       "        vertical-align: top;\n",
       "    }\n",
       "\n",
       "    .dataframe thead th {\n",
       "        text-align: right;\n",
       "    }\n",
       "</style>\n",
       "<table border=\"1\" class=\"dataframe\">\n",
       "  <thead>\n",
       "    <tr style=\"text-align: right;\">\n",
       "      <th></th>\n",
       "      <th>High</th>\n",
       "      <th>Low</th>\n",
       "      <th>Open</th>\n",
       "      <th>Close</th>\n",
       "      <th>Volume</th>\n",
       "      <th>Adj Close</th>\n",
       "    </tr>\n",
       "    <tr>\n",
       "      <th>Date</th>\n",
       "      <th></th>\n",
       "      <th></th>\n",
       "      <th></th>\n",
       "      <th></th>\n",
       "      <th></th>\n",
       "      <th></th>\n",
       "    </tr>\n",
       "  </thead>\n",
       "  <tbody>\n",
       "    <tr>\n",
       "      <th>2019-01-02</th>\n",
       "      <td>158.850006</td>\n",
       "      <td>154.229996</td>\n",
       "      <td>154.889999</td>\n",
       "      <td>157.919998</td>\n",
       "      <td>37039700.0</td>\n",
       "      <td>155.582367</td>\n",
       "    </tr>\n",
       "    <tr>\n",
       "      <th>2019-01-03</th>\n",
       "      <td>145.720001</td>\n",
       "      <td>142.000000</td>\n",
       "      <td>143.979996</td>\n",
       "      <td>142.190002</td>\n",
       "      <td>91312200.0</td>\n",
       "      <td>140.085220</td>\n",
       "    </tr>\n",
       "    <tr>\n",
       "      <th>2019-01-04</th>\n",
       "      <td>148.550003</td>\n",
       "      <td>143.800003</td>\n",
       "      <td>144.529999</td>\n",
       "      <td>148.259995</td>\n",
       "      <td>58607100.0</td>\n",
       "      <td>146.065353</td>\n",
       "    </tr>\n",
       "    <tr>\n",
       "      <th>2019-01-07</th>\n",
       "      <td>148.830002</td>\n",
       "      <td>145.899994</td>\n",
       "      <td>148.699997</td>\n",
       "      <td>147.929993</td>\n",
       "      <td>54777800.0</td>\n",
       "      <td>145.740265</td>\n",
       "    </tr>\n",
       "    <tr>\n",
       "      <th>2019-01-08</th>\n",
       "      <td>151.820007</td>\n",
       "      <td>148.520004</td>\n",
       "      <td>149.559998</td>\n",
       "      <td>150.750000</td>\n",
       "      <td>41025300.0</td>\n",
       "      <td>148.518509</td>\n",
       "    </tr>\n",
       "  </tbody>\n",
       "</table>\n",
       "</div>"
      ],
      "text/plain": [
       "                  High         Low        Open       Close      Volume  \\\n",
       "Date                                                                     \n",
       "2019-01-02  158.850006  154.229996  154.889999  157.919998  37039700.0   \n",
       "2019-01-03  145.720001  142.000000  143.979996  142.190002  91312200.0   \n",
       "2019-01-04  148.550003  143.800003  144.529999  148.259995  58607100.0   \n",
       "2019-01-07  148.830002  145.899994  148.699997  147.929993  54777800.0   \n",
       "2019-01-08  151.820007  148.520004  149.559998  150.750000  41025300.0   \n",
       "\n",
       "             Adj Close  \n",
       "Date                    \n",
       "2019-01-02  155.582367  \n",
       "2019-01-03  140.085220  \n",
       "2019-01-04  146.065353  \n",
       "2019-01-07  145.740265  \n",
       "2019-01-08  148.518509  "
      ]
     },
     "execution_count": 2,
     "metadata": {},
     "output_type": "execute_result"
    }
   ],
   "source": [
    "df_spy = pdr.get_data_yahoo('AAPL', start='2019-01-01', end='2019-12-01')\n",
    "df_spy.head()"
   ]
  },
  {
   "cell_type": "markdown",
   "metadata": {},
   "source": [
    " "
   ]
  },
  {
   "cell_type": "markdown",
   "metadata": {},
   "source": [
    "The following code retrieves VIX data from 2014-2018."
   ]
  },
  {
   "cell_type": "code",
   "execution_count": 3,
   "metadata": {},
   "outputs": [
    {
     "data": {
      "text/html": [
       "<div>\n",
       "<style scoped>\n",
       "    .dataframe tbody tr th:only-of-type {\n",
       "        vertical-align: middle;\n",
       "    }\n",
       "\n",
       "    .dataframe tbody tr th {\n",
       "        vertical-align: top;\n",
       "    }\n",
       "\n",
       "    .dataframe thead th {\n",
       "        text-align: right;\n",
       "    }\n",
       "</style>\n",
       "<table border=\"1\" class=\"dataframe\">\n",
       "  <thead>\n",
       "    <tr style=\"text-align: right;\">\n",
       "      <th></th>\n",
       "      <th>High</th>\n",
       "      <th>Low</th>\n",
       "      <th>Open</th>\n",
       "      <th>Close</th>\n",
       "      <th>Volume</th>\n",
       "      <th>Adj Close</th>\n",
       "    </tr>\n",
       "    <tr>\n",
       "      <th>Date</th>\n",
       "      <th></th>\n",
       "      <th></th>\n",
       "      <th></th>\n",
       "      <th></th>\n",
       "      <th></th>\n",
       "      <th></th>\n",
       "    </tr>\n",
       "  </thead>\n",
       "  <tbody>\n",
       "    <tr>\n",
       "      <th>2014-01-02</th>\n",
       "      <td>14.59</td>\n",
       "      <td>14.00</td>\n",
       "      <td>14.32</td>\n",
       "      <td>14.23</td>\n",
       "      <td>0</td>\n",
       "      <td>14.23</td>\n",
       "    </tr>\n",
       "    <tr>\n",
       "      <th>2014-01-03</th>\n",
       "      <td>14.22</td>\n",
       "      <td>13.57</td>\n",
       "      <td>14.06</td>\n",
       "      <td>13.76</td>\n",
       "      <td>0</td>\n",
       "      <td>13.76</td>\n",
       "    </tr>\n",
       "    <tr>\n",
       "      <th>2014-01-06</th>\n",
       "      <td>14.00</td>\n",
       "      <td>13.22</td>\n",
       "      <td>13.41</td>\n",
       "      <td>13.55</td>\n",
       "      <td>0</td>\n",
       "      <td>13.55</td>\n",
       "    </tr>\n",
       "    <tr>\n",
       "      <th>2014-01-07</th>\n",
       "      <td>13.28</td>\n",
       "      <td>12.16</td>\n",
       "      <td>12.38</td>\n",
       "      <td>12.92</td>\n",
       "      <td>0</td>\n",
       "      <td>12.92</td>\n",
       "    </tr>\n",
       "    <tr>\n",
       "      <th>2014-01-08</th>\n",
       "      <td>13.24</td>\n",
       "      <td>12.86</td>\n",
       "      <td>13.04</td>\n",
       "      <td>12.87</td>\n",
       "      <td>0</td>\n",
       "      <td>12.87</td>\n",
       "    </tr>\n",
       "  </tbody>\n",
       "</table>\n",
       "</div>"
      ],
      "text/plain": [
       "             High    Low   Open  Close  Volume  Adj Close\n",
       "Date                                                     \n",
       "2014-01-02  14.59  14.00  14.32  14.23       0      14.23\n",
       "2014-01-03  14.22  13.57  14.06  13.76       0      13.76\n",
       "2014-01-06  14.00  13.22  13.41  13.55       0      13.55\n",
       "2014-01-07  13.28  12.16  12.38  12.92       0      12.92\n",
       "2014-01-08  13.24  12.86  13.04  12.87       0      12.87"
      ]
     },
     "execution_count": 3,
     "metadata": {},
     "output_type": "execute_result"
    }
   ],
   "source": [
    "df_vix = pdr.get_data_yahoo('^VIX', start='2014-01-01', end='2019-01-01')\n",
    "df_vix.head()"
   ]
  },
  {
   "cell_type": "markdown",
   "metadata": {},
   "source": [
    "**Code Challenge:** Grab the 2018 prices for `XLF`."
   ]
  },
  {
   "cell_type": "code",
   "execution_count": null,
   "metadata": {},
   "outputs": [],
   "source": [
    "\n",
    "\n"
   ]
  },
  {
   "cell_type": "markdown",
   "metadata": {},
   "source": [
    "### Federal Reserve (FRED)"
   ]
  },
  {
   "cell_type": "markdown",
   "metadata": {},
   "source": [
    "The function for retrieving data from FRED is `pdr.get_data_fred()`.\n",
    "\n",
    "This code grabs the VXN index (a VIX-like calculation for the Nasdaq 100) for 2014-2018."
   ]
  },
  {
   "cell_type": "code",
   "execution_count": 4,
   "metadata": {},
   "outputs": [
    {
     "data": {
      "text/html": [
       "<div>\n",
       "<style scoped>\n",
       "    .dataframe tbody tr th:only-of-type {\n",
       "        vertical-align: middle;\n",
       "    }\n",
       "\n",
       "    .dataframe tbody tr th {\n",
       "        vertical-align: top;\n",
       "    }\n",
       "\n",
       "    .dataframe thead th {\n",
       "        text-align: right;\n",
       "    }\n",
       "</style>\n",
       "<table border=\"1\" class=\"dataframe\">\n",
       "  <thead>\n",
       "    <tr style=\"text-align: right;\">\n",
       "      <th></th>\n",
       "      <th>VXNCLS</th>\n",
       "    </tr>\n",
       "    <tr>\n",
       "      <th>DATE</th>\n",
       "      <th></th>\n",
       "    </tr>\n",
       "  </thead>\n",
       "  <tbody>\n",
       "    <tr>\n",
       "      <th>2019-01-01</th>\n",
       "      <td>NaN</td>\n",
       "    </tr>\n",
       "    <tr>\n",
       "      <th>2019-01-02</th>\n",
       "      <td>30.09</td>\n",
       "    </tr>\n",
       "    <tr>\n",
       "      <th>2019-01-03</th>\n",
       "      <td>32.18</td>\n",
       "    </tr>\n",
       "    <tr>\n",
       "      <th>2019-01-04</th>\n",
       "      <td>28.57</td>\n",
       "    </tr>\n",
       "    <tr>\n",
       "      <th>2019-01-07</th>\n",
       "      <td>28.53</td>\n",
       "    </tr>\n",
       "    <tr>\n",
       "      <th>...</th>\n",
       "      <td>...</td>\n",
       "    </tr>\n",
       "    <tr>\n",
       "      <th>2019-12-06</th>\n",
       "      <td>16.44</td>\n",
       "    </tr>\n",
       "    <tr>\n",
       "      <th>2019-12-09</th>\n",
       "      <td>18.15</td>\n",
       "    </tr>\n",
       "    <tr>\n",
       "      <th>2019-12-10</th>\n",
       "      <td>18.02</td>\n",
       "    </tr>\n",
       "    <tr>\n",
       "      <th>2019-12-11</th>\n",
       "      <td>17.41</td>\n",
       "    </tr>\n",
       "    <tr>\n",
       "      <th>2019-12-12</th>\n",
       "      <td>16.55</td>\n",
       "    </tr>\n",
       "  </tbody>\n",
       "</table>\n",
       "<p>248 rows × 1 columns</p>\n",
       "</div>"
      ],
      "text/plain": [
       "            VXNCLS\n",
       "DATE              \n",
       "2019-01-01     NaN\n",
       "2019-01-02   30.09\n",
       "2019-01-03   32.18\n",
       "2019-01-04   28.57\n",
       "2019-01-07   28.53\n",
       "...            ...\n",
       "2019-12-06   16.44\n",
       "2019-12-09   18.15\n",
       "2019-12-10   18.02\n",
       "2019-12-11   17.41\n",
       "2019-12-12   16.55\n",
       "\n",
       "[248 rows x 1 columns]"
      ]
     },
     "execution_count": 4,
     "metadata": {},
     "output_type": "execute_result"
    }
   ],
   "source": [
    "df_vxn = pdr.get_data_fred('VXNCLS', start='2019-01-01', end='2019-12-12')\n",
    "df_vxn"
   ]
  },
  {
   "cell_type": "markdown",
   "metadata": {},
   "source": [
    "### Further Reading\n",
    "\n",
    "At the moment, there isn't a lot of great documentation about `pandas_datareader`.  \n",
    "\n",
    "Here is a link to the [offical docs](https://pydata.github.io/pandas-datareader/stable/), which aren't the best."
   ]
  },
  {
   "cell_type": "code",
   "execution_count": 5,
   "metadata": {},
   "outputs": [],
   "source": [
    "import os\n",
    "from datetime import datetime\n",
    "import pandas_datareader.data as web\n"
   ]
  },
  {
   "cell_type": "code",
   "execution_count": 6,
   "metadata": {},
   "outputs": [],
   "source": [
    "os.environ['ALPHAVANTAGE_API_KEY'] = 'MUOT1BPLVAMSCTC9'\n"
   ]
  },
  {
   "cell_type": "code",
   "execution_count": 7,
   "metadata": {},
   "outputs": [],
   "source": [
    "from datetime import datetime"
   ]
  },
  {
   "cell_type": "code",
   "execution_count": 47,
   "metadata": {},
   "outputs": [],
   "source": [
    "f = web.DataReader(\"NOVN.SW\", \"av-intraday\", start=datetime(2019, 12, 10),\n",
    "                   end=datetime(2019, 12, 11))\n",
    "                   "
   ]
  },
  {
   "cell_type": "code",
   "execution_count": 48,
   "metadata": {},
   "outputs": [
    {
     "data": {
      "text/html": [
       "<div>\n",
       "<style scoped>\n",
       "    .dataframe tbody tr th:only-of-type {\n",
       "        vertical-align: middle;\n",
       "    }\n",
       "\n",
       "    .dataframe tbody tr th {\n",
       "        vertical-align: top;\n",
       "    }\n",
       "\n",
       "    .dataframe thead th {\n",
       "        text-align: right;\n",
       "    }\n",
       "</style>\n",
       "<table border=\"1\" class=\"dataframe\">\n",
       "  <thead>\n",
       "    <tr style=\"text-align: right;\">\n",
       "      <th></th>\n",
       "      <th>open</th>\n",
       "      <th>high</th>\n",
       "      <th>low</th>\n",
       "      <th>close</th>\n",
       "      <th>volume</th>\n",
       "    </tr>\n",
       "  </thead>\n",
       "  <tbody>\n",
       "    <tr>\n",
       "      <th>2019-12-10 03:01:00</th>\n",
       "      <td>91.2000</td>\n",
       "      <td>91.3300</td>\n",
       "      <td>91.1000</td>\n",
       "      <td>91.2500</td>\n",
       "      <td>0</td>\n",
       "    </tr>\n",
       "    <tr>\n",
       "      <th>2019-12-10 03:02:00</th>\n",
       "      <td>91.3000</td>\n",
       "      <td>91.4100</td>\n",
       "      <td>91.3000</td>\n",
       "      <td>91.4100</td>\n",
       "      <td>17619</td>\n",
       "    </tr>\n",
       "    <tr>\n",
       "      <th>2019-12-10 03:03:00</th>\n",
       "      <td>91.3618</td>\n",
       "      <td>91.4619</td>\n",
       "      <td>91.3018</td>\n",
       "      <td>91.3018</td>\n",
       "      <td>14918</td>\n",
       "    </tr>\n",
       "    <tr>\n",
       "      <th>2019-12-10 03:04:00</th>\n",
       "      <td>91.3000</td>\n",
       "      <td>91.3700</td>\n",
       "      <td>91.2600</td>\n",
       "      <td>91.3000</td>\n",
       "      <td>15018</td>\n",
       "    </tr>\n",
       "    <tr>\n",
       "      <th>2019-12-10 03:05:00</th>\n",
       "      <td>91.2800</td>\n",
       "      <td>91.3300</td>\n",
       "      <td>91.2300</td>\n",
       "      <td>91.2500</td>\n",
       "      <td>12390</td>\n",
       "    </tr>\n",
       "    <tr>\n",
       "      <th>...</th>\n",
       "      <td>...</td>\n",
       "      <td>...</td>\n",
       "      <td>...</td>\n",
       "      <td>...</td>\n",
       "      <td>...</td>\n",
       "    </tr>\n",
       "    <tr>\n",
       "      <th>2019-12-10 11:15:00</th>\n",
       "      <td>91.1200</td>\n",
       "      <td>91.1600</td>\n",
       "      <td>91.1200</td>\n",
       "      <td>91.1300</td>\n",
       "      <td>7284</td>\n",
       "    </tr>\n",
       "    <tr>\n",
       "      <th>2019-12-10 11:16:00</th>\n",
       "      <td>91.1100</td>\n",
       "      <td>91.1200</td>\n",
       "      <td>91.0900</td>\n",
       "      <td>91.1000</td>\n",
       "      <td>14757</td>\n",
       "    </tr>\n",
       "    <tr>\n",
       "      <th>2019-12-10 11:17:00</th>\n",
       "      <td>91.0900</td>\n",
       "      <td>91.1200</td>\n",
       "      <td>91.0800</td>\n",
       "      <td>91.0800</td>\n",
       "      <td>25593</td>\n",
       "    </tr>\n",
       "    <tr>\n",
       "      <th>2019-12-10 11:18:00</th>\n",
       "      <td>91.0900</td>\n",
       "      <td>91.1200</td>\n",
       "      <td>91.0300</td>\n",
       "      <td>91.0400</td>\n",
       "      <td>24140</td>\n",
       "    </tr>\n",
       "    <tr>\n",
       "      <th>2019-12-10 11:19:00</th>\n",
       "      <td>91.0600</td>\n",
       "      <td>91.1200</td>\n",
       "      <td>91.0400</td>\n",
       "      <td>91.0700</td>\n",
       "      <td>22528</td>\n",
       "    </tr>\n",
       "  </tbody>\n",
       "</table>\n",
       "<p>497 rows × 5 columns</p>\n",
       "</div>"
      ],
      "text/plain": [
       "                        open     high      low    close  volume\n",
       "2019-12-10 03:01:00  91.2000  91.3300  91.1000  91.2500       0\n",
       "2019-12-10 03:02:00  91.3000  91.4100  91.3000  91.4100   17619\n",
       "2019-12-10 03:03:00  91.3618  91.4619  91.3018  91.3018   14918\n",
       "2019-12-10 03:04:00  91.3000  91.3700  91.2600  91.3000   15018\n",
       "2019-12-10 03:05:00  91.2800  91.3300  91.2300  91.2500   12390\n",
       "...                      ...      ...      ...      ...     ...\n",
       "2019-12-10 11:15:00  91.1200  91.1600  91.1200  91.1300    7284\n",
       "2019-12-10 11:16:00  91.1100  91.1200  91.0900  91.1000   14757\n",
       "2019-12-10 11:17:00  91.0900  91.1200  91.0800  91.0800   25593\n",
       "2019-12-10 11:18:00  91.0900  91.1200  91.0300  91.0400   24140\n",
       "2019-12-10 11:19:00  91.0600  91.1200  91.0400  91.0700   22528\n",
       "\n",
       "[497 rows x 5 columns]"
      ]
     },
     "execution_count": 48,
     "metadata": {},
     "output_type": "execute_result"
    }
   ],
   "source": [
    "f"
   ]
  },
  {
   "cell_type": "code",
   "execution_count": null,
   "metadata": {},
   "outputs": [],
   "source": []
  }
 ],
 "metadata": {
  "kernelspec": {
   "display_name": "Python 3",
   "language": "python",
   "name": "python3"
  },
  "language_info": {
   "codemirror_mode": {
    "name": "ipython",
    "version": 3
   },
   "file_extension": ".py",
   "mimetype": "text/x-python",
   "name": "python",
   "nbconvert_exporter": "python",
   "pygments_lexer": "ipython3",
   "version": "3.7.3"
  }
 },
 "nbformat": 4,
 "nbformat_minor": 2
}
